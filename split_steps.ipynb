{
 "cells": [
  {
   "cell_type": "code",
   "execution_count": 1,
   "metadata": {},
   "outputs": [],
   "source": [
    "import vtk\n",
    "\n",
    "filename = \"/Volumes/richter/0104_0001/job_28532326/result_cycle_1.vtu\"\n",
    "\n",
    "target_folder = \"/Volumes/richter/0104_0001/job_28532326/split_time_data\"\n",
    "\n",
    "reader = vtk.vtkXMLUnstructuredGridReader()\n",
    "reader.SetFileName(filename)\n",
    "reader.Update()\n",
    "\n",
    "data = reader.GetOutput()"
   ]
  },
  {
   "cell_type": "code",
   "execution_count": 16,
   "metadata": {},
   "outputs": [
    {
     "name": "stdout",
     "output_type": "stream",
     "text": [
      "0\n"
     ]
    }
   ],
   "source": [
    "geometry = vtk.vtkUnstructuredGrid()\n",
    "geometry.SetPoints(data.GetPoints())\n",
    "geometry.SetCells(data.GetCell(0).GetCellType(), data.GetCells())\n",
    "\n",
    "print(geometry.GetPointData().GetNumberOfArrays())"
   ]
  },
  {
   "cell_type": "code",
   "execution_count": 17,
   "metadata": {},
   "outputs": [
    {
     "name": "stdout",
     "output_type": "stream",
     "text": [
      "/Volumes/richter/0104_0001/job_28532326/split_time_data/result_00000.vtu\n"
     ]
    }
   ],
   "source": [
    "import os\n",
    "\n",
    "for i in range(0, 1010, 10):\n",
    "    p_array_name = f\"pressure_{i:05}\"\n",
    "    q_array_name = f\"velocity_{i:05}\"\n",
    "\n",
    "    p_array = vtk.vtkDoubleArray()\n",
    "    p_array.DeepCopy(data.GetPointData().GetArray(p_array_name))\n",
    "    p_array.SetName(\"pressure\")\n",
    "\n",
    "    q_array = vtk.vtkDoubleArray()\n",
    "    q_array.DeepCopy(data.GetPointData().GetArray(q_array_name))\n",
    "    q_array.SetName(\"velocity\")\n",
    "\n",
    "    geometry.GetPointData().AddArray(p_array)\n",
    "    geometry.GetPointData().AddArray(q_array)\n",
    "\n",
    "    writer = vtk.vtkXMLUnstructuredGridWriter()\n",
    "    writer.SetInputData(geometry)\n",
    "    writer.SetFileName(os.path.join(target_folder, f\"result_{i:05}.vtu\"))\n",
    "    writer.Write()\n",
    "    print(writer.GetFileName())\n"
   ]
  }
 ],
 "metadata": {
  "kernelspec": {
   "display_name": "estimator_new",
   "language": "python",
   "name": "python3"
  },
  "language_info": {
   "codemirror_mode": {
    "name": "ipython",
    "version": 3
   },
   "file_extension": ".py",
   "mimetype": "text/x-python",
   "name": "python",
   "nbconvert_exporter": "python",
   "pygments_lexer": "ipython3",
   "version": "3.9.18"
  }
 },
 "nbformat": 4,
 "nbformat_minor": 2
}
